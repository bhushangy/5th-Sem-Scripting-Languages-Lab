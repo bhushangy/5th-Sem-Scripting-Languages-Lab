{
 "cells": [
  {
   "cell_type": "code",
   "execution_count": 31,
   "metadata": {},
   "outputs": [
    {
     "data": {
      "text/plain": [
       "Class\n",
       "Iris-setosa        0.244\n",
       "Iris-versicolor    1.326\n",
       "Iris-virginica     2.026\n",
       "Name:  Petal_Width, dtype: float64"
      ]
     },
     "execution_count": 31,
     "metadata": {},
     "output_type": "execute_result"
    }
   ],
   "source": [
    "import pandas as pd\n",
    "from pandas import Series, DataFrame\n",
    "\n",
    "# get titanic & test csv files as a pandas DataFrame\n",
    "iris_df = pd.read_csv(\"iris.csv\")\n",
    "# print(\"......Printing the IRIS DataFrame completely.....\")\n",
    "# #print(iris_df)\n",
    "# #print(\".............Printing the Info.....\")\n",
    "#iris_df.info()\n",
    "# print(\"........Describing.....\")\n",
    "# #iris_df.describe()\n",
    "#new = iris_df[['Class',' Petal_Width']].groupby('Class').mean()\n",
    "#print(new)\n",
    "\n",
    "iris_df.groupby('Class')[' Petal_Width'].mean()"
   ]
  },
  {
   "cell_type": "code",
   "execution_count": 2,
   "metadata": {},
   "outputs": [],
   "source": [
    "df = pd.read_csv('stock.csv')"
   ]
  },
  {
   "cell_type": "code",
   "execution_count": 3,
   "metadata": {},
   "outputs": [
    {
     "name": "stdout",
     "output_type": "stream",
     "text": [
      "           Date       Open       High        Low      Close  Adj Close  Volume\n",
      "0    2018-09-26  21.889999  22.129999  21.670000  21.790001  21.453817  170700\n",
      "1    2018-09-27  21.700001  21.820000  21.520000  21.530001  21.197830   82200\n",
      "2    2018-09-28  21.520000  21.700001  21.490000  21.549999  21.217520   98900\n",
      "3    2018-10-01  21.530001  21.889999  21.500000  21.709999  21.375051   91200\n",
      "4    2018-10-02  21.770000  21.809999  21.440001  21.459999  21.128910   92200\n",
      "5    2018-10-03  21.600000  21.600000  21.139999  21.170000  20.843384   75000\n",
      "6    2018-10-04  21.080000  21.090000  20.660000  20.780001  20.459402   85200\n",
      "7    2018-10-05  20.830000  20.830000  20.420000  20.760000  20.439709   75600\n",
      "8    2018-10-08  20.750000  20.889999  20.590000  20.809999  20.488939   57100\n",
      "9    2018-10-09  20.760000  20.950001  20.709999  20.760000  20.439709   45900\n",
      "10   2018-10-10  20.760000  20.930000  20.580000  20.610001  20.292027   97200\n",
      "11   2018-10-11  20.570000  20.740000  20.209999  20.260000  19.947426  124300\n",
      "12   2018-10-12  20.510000  20.520000  20.250000  20.469999  20.154184  140800\n",
      "13   2018-10-15  20.420000  20.570000  20.030001  20.410000  20.095110   84800\n",
      "14   2018-10-16  20.490000  20.709999  20.350000  20.670000  20.351099   69400\n",
      "15   2018-10-17  20.629999  20.790001  20.590000  20.650000  20.331408   85700\n",
      "16   2018-10-18  20.580000  20.580000  20.070000  20.230000  19.917887   81100\n",
      "17   2018-10-19  20.190001  20.459999  20.049999  20.049999  19.740664   53400\n",
      "18   2018-10-22  20.010000  20.110001  19.670000  19.799999  19.494522   65600\n",
      "19   2018-10-23  19.600000  19.850000  19.200001  19.440001  19.140076  110100\n",
      "20   2018-10-24  19.370001  19.549999  19.160000  19.160000  18.864393   74800\n",
      "21   2018-10-25  19.230000  19.510000  19.139999  19.320000  19.021927   90300\n",
      "22   2018-10-26  19.120001  19.350000  18.900000  19.170000  18.874241  101300\n",
      "23   2018-10-29  19.290001  19.520000  18.790001  18.889999  18.598558   68200\n",
      "24   2018-10-30  18.910000  19.120001  18.540001  18.870001  18.578869  254400\n",
      "25   2018-10-31  19.110001  19.290001  18.889999  19.059999  18.765938  175300\n",
      "26   2018-11-01  18.780001  18.780001  14.570000  14.970000  14.739039  822500\n",
      "27   2018-11-02  15.020000  15.420000  14.900000  15.340000  15.103332  305000\n",
      "28   2018-11-05  15.300000  16.629999  15.300000  15.730000  15.487314  263000\n",
      "29   2018-11-06  15.750000  16.230000  15.740000  16.120001  15.871296  133600\n",
      "..          ...        ...        ...        ...        ...        ...     ...\n",
      "222  2019-08-15  22.260000  22.620001  21.969999  22.000000  22.000000   83900\n",
      "223  2019-08-16  22.070000  22.639999  22.000000  22.490000  22.490000   81800\n",
      "224  2019-08-19  22.629999  22.830000  22.540001  22.650000  22.650000   44200\n",
      "225  2019-08-20  22.540001  22.750000  22.170000  22.200001  22.200001   42200\n",
      "226  2019-08-21  22.200001  22.219999  21.790001  21.830000  21.830000   43000\n",
      "227  2019-08-22  21.920000  22.090000  21.469999  21.510000  21.510000   58300\n",
      "228  2019-08-23  21.400000  21.459999  20.799999  20.990000  20.990000   98200\n",
      "229  2019-08-26  21.100000  21.639999  21.090000  21.520000  21.520000   73200\n",
      "230  2019-08-27  21.639999  21.719999  20.910000  20.959999  20.959999   55200\n",
      "231  2019-08-28  20.860001  21.320000  20.860001  21.129999  21.129999   64500\n",
      "232  2019-08-29  21.340000  21.459999  21.059999  21.100000  21.100000   36300\n",
      "233  2019-08-30  21.120001  21.389999  21.010000  21.270000  21.270000  101600\n",
      "234  2019-09-03  21.200001  21.330000  20.650000  21.129999  21.129999   55300\n",
      "235  2019-09-04  21.230000  21.270000  20.990000  21.080000  21.080000   34900\n",
      "236  2019-09-05  21.250000  21.610001  21.000000  21.309999  21.309999   57500\n",
      "237  2019-09-06  21.400000  21.700001  21.160000  21.190001  21.190001   70000\n",
      "238  2019-09-09  21.230000  21.620001  21.160000  21.389999  21.389999   50200\n",
      "239  2019-09-10  21.389999  22.330000  21.250000  21.900000  21.900000  102200\n",
      "240  2019-09-11  21.969999  22.549999  21.969999  22.540001  22.540001   93000\n",
      "241  2019-09-12  22.639999  22.850000  22.360001  22.450001  22.450001  131600\n",
      "242  2019-09-13  22.650000  22.889999  22.480000  22.690001  22.690001   81000\n",
      "243  2019-09-16  22.660000  22.670000  22.410000  22.500000  22.500000  144800\n",
      "244  2019-09-17  22.480000  22.809999  22.400000  22.639999  22.639999   72200\n",
      "245  2019-09-18  22.790001  22.940001  22.389999  22.410000  22.410000  147500\n",
      "246  2019-09-19  22.400000  22.700001  22.200001  22.219999  22.219999   67700\n",
      "247  2019-09-20  22.260000  22.320000  21.709999  21.760000  21.760000  170200\n",
      "248  2019-09-23  21.629999  21.950001  21.590000  21.590000  21.590000   88500\n",
      "249  2019-09-24  21.670000  21.850000  21.260000  21.280001  21.280001  103300\n",
      "250  2019-09-25  21.350000  21.750000  21.350000  21.700001  21.700001   85900\n",
      "251  2019-09-26  21.660000  21.860001  21.430000  21.430000  21.430000    4194\n",
      "\n",
      "[252 rows x 7 columns]\n"
     ]
    }
   ],
   "source": [
    "print(df)"
   ]
  },
  {
   "cell_type": "code",
   "execution_count": 4,
   "metadata": {},
   "outputs": [
    {
     "name": "stdout",
     "output_type": "stream",
     "text": [
      "<class 'pandas.core.frame.DataFrame'>\n",
      "RangeIndex: 252 entries, 0 to 251\n",
      "Data columns (total 7 columns):\n",
      "Date         252 non-null object\n",
      "Open         252 non-null float64\n",
      "High         252 non-null float64\n",
      "Low          252 non-null float64\n",
      "Close        252 non-null float64\n",
      "Adj Close    252 non-null float64\n",
      "Volume       252 non-null int64\n",
      "dtypes: float64(5), int64(1), object(1)\n",
      "memory usage: 13.9+ KB\n"
     ]
    }
   ],
   "source": [
    "df.info()"
   ]
  },
  {
   "cell_type": "code",
   "execution_count": 5,
   "metadata": {},
   "outputs": [
    {
     "data": {
      "text/html": [
       "<div>\n",
       "<style scoped>\n",
       "    .dataframe tbody tr th:only-of-type {\n",
       "        vertical-align: middle;\n",
       "    }\n",
       "\n",
       "    .dataframe tbody tr th {\n",
       "        vertical-align: top;\n",
       "    }\n",
       "\n",
       "    .dataframe thead th {\n",
       "        text-align: right;\n",
       "    }\n",
       "</style>\n",
       "<table border=\"1\" class=\"dataframe\">\n",
       "  <thead>\n",
       "    <tr style=\"text-align: right;\">\n",
       "      <th></th>\n",
       "      <th>Open</th>\n",
       "      <th>High</th>\n",
       "      <th>Low</th>\n",
       "      <th>Close</th>\n",
       "      <th>Adj Close</th>\n",
       "      <th>Volume</th>\n",
       "    </tr>\n",
       "  </thead>\n",
       "  <tbody>\n",
       "    <tr>\n",
       "      <th>count</th>\n",
       "      <td>252.000000</td>\n",
       "      <td>252.000000</td>\n",
       "      <td>252.000000</td>\n",
       "      <td>252.000000</td>\n",
       "      <td>252.000000</td>\n",
       "      <td>252.000000</td>\n",
       "    </tr>\n",
       "    <tr>\n",
       "      <th>mean</th>\n",
       "      <td>19.175119</td>\n",
       "      <td>19.455952</td>\n",
       "      <td>18.928254</td>\n",
       "      <td>19.177579</td>\n",
       "      <td>19.043393</td>\n",
       "      <td>115304.341270</td>\n",
       "    </tr>\n",
       "    <tr>\n",
       "      <th>std</th>\n",
       "      <td>1.966380</td>\n",
       "      <td>1.956686</td>\n",
       "      <td>1.972342</td>\n",
       "      <td>1.961038</td>\n",
       "      <td>1.990440</td>\n",
       "      <td>92978.396122</td>\n",
       "    </tr>\n",
       "    <tr>\n",
       "      <th>min</th>\n",
       "      <td>14.520000</td>\n",
       "      <td>14.770000</td>\n",
       "      <td>14.500000</td>\n",
       "      <td>14.500000</td>\n",
       "      <td>14.339517</td>\n",
       "      <td>4194.000000</td>\n",
       "    </tr>\n",
       "    <tr>\n",
       "      <th>25%</th>\n",
       "      <td>18.415000</td>\n",
       "      <td>18.704999</td>\n",
       "      <td>18.100001</td>\n",
       "      <td>18.454999</td>\n",
       "      <td>18.365839</td>\n",
       "      <td>68950.000000</td>\n",
       "    </tr>\n",
       "    <tr>\n",
       "      <th>50%</th>\n",
       "      <td>19.220000</td>\n",
       "      <td>19.474999</td>\n",
       "      <td>19.015000</td>\n",
       "      <td>19.275001</td>\n",
       "      <td>19.118763</td>\n",
       "      <td>90750.000000</td>\n",
       "    </tr>\n",
       "    <tr>\n",
       "      <th>75%</th>\n",
       "      <td>20.572500</td>\n",
       "      <td>20.814999</td>\n",
       "      <td>20.342500</td>\n",
       "      <td>20.620001</td>\n",
       "      <td>20.368758</td>\n",
       "      <td>135750.000000</td>\n",
       "    </tr>\n",
       "    <tr>\n",
       "      <th>max</th>\n",
       "      <td>22.790001</td>\n",
       "      <td>22.950001</td>\n",
       "      <td>22.540001</td>\n",
       "      <td>22.690001</td>\n",
       "      <td>22.690001</td>\n",
       "      <td>846900.000000</td>\n",
       "    </tr>\n",
       "  </tbody>\n",
       "</table>\n",
       "</div>"
      ],
      "text/plain": [
       "             Open        High         Low       Close   Adj Close  \\\n",
       "count  252.000000  252.000000  252.000000  252.000000  252.000000   \n",
       "mean    19.175119   19.455952   18.928254   19.177579   19.043393   \n",
       "std      1.966380    1.956686    1.972342    1.961038    1.990440   \n",
       "min     14.520000   14.770000   14.500000   14.500000   14.339517   \n",
       "25%     18.415000   18.704999   18.100001   18.454999   18.365839   \n",
       "50%     19.220000   19.474999   19.015000   19.275001   19.118763   \n",
       "75%     20.572500   20.814999   20.342500   20.620001   20.368758   \n",
       "max     22.790001   22.950001   22.540001   22.690001   22.690001   \n",
       "\n",
       "              Volume  \n",
       "count     252.000000  \n",
       "mean   115304.341270  \n",
       "std     92978.396122  \n",
       "min      4194.000000  \n",
       "25%     68950.000000  \n",
       "50%     90750.000000  \n",
       "75%    135750.000000  \n",
       "max    846900.000000  "
      ]
     },
     "execution_count": 5,
     "metadata": {},
     "output_type": "execute_result"
    }
   ],
   "source": [
    "df.describe()"
   ]
  },
  {
   "cell_type": "code",
   "execution_count": 6,
   "metadata": {},
   "outputs": [
    {
     "ename": "AttributeError",
     "evalue": "'Series' object has no attribute 'decribe'",
     "output_type": "error",
     "traceback": [
      "\u001b[1;31m---------------------------------------------------------------------------\u001b[0m",
      "\u001b[1;31mAttributeError\u001b[0m                            Traceback (most recent call last)",
      "\u001b[1;32m<ipython-input-6-a4ede7f95c89>\u001b[0m in \u001b[0;36m<module>\u001b[1;34m\u001b[0m\n\u001b[1;32m----> 1\u001b[1;33m \u001b[0mdf\u001b[0m \u001b[1;33m=\u001b[0m \u001b[0mdf\u001b[0m\u001b[1;33m[\u001b[0m\u001b[1;34m\"High\"\u001b[0m\u001b[1;33m]\u001b[0m\u001b[1;33m.\u001b[0m\u001b[0mdecribe\u001b[0m\u001b[1;33m(\u001b[0m\u001b[1;33m)\u001b[0m\u001b[1;33m\u001b[0m\u001b[0m\n\u001b[0m",
      "\u001b[1;32mc:\\users\\abhishek gy\\appdata\\local\\programs\\python\\python36\\lib\\site-packages\\pandas\\core\\generic.py\u001b[0m in \u001b[0;36m__getattr__\u001b[1;34m(self, name)\u001b[0m\n\u001b[0;32m   4374\u001b[0m             \u001b[1;32mif\u001b[0m \u001b[0mself\u001b[0m\u001b[1;33m.\u001b[0m\u001b[0m_info_axis\u001b[0m\u001b[1;33m.\u001b[0m\u001b[0m_can_hold_identifiers_and_holds_name\u001b[0m\u001b[1;33m(\u001b[0m\u001b[0mname\u001b[0m\u001b[1;33m)\u001b[0m\u001b[1;33m:\u001b[0m\u001b[1;33m\u001b[0m\u001b[0m\n\u001b[0;32m   4375\u001b[0m                 \u001b[1;32mreturn\u001b[0m \u001b[0mself\u001b[0m\u001b[1;33m[\u001b[0m\u001b[0mname\u001b[0m\u001b[1;33m]\u001b[0m\u001b[1;33m\u001b[0m\u001b[0m\n\u001b[1;32m-> 4376\u001b[1;33m             \u001b[1;32mreturn\u001b[0m \u001b[0mobject\u001b[0m\u001b[1;33m.\u001b[0m\u001b[0m__getattribute__\u001b[0m\u001b[1;33m(\u001b[0m\u001b[0mself\u001b[0m\u001b[1;33m,\u001b[0m \u001b[0mname\u001b[0m\u001b[1;33m)\u001b[0m\u001b[1;33m\u001b[0m\u001b[0m\n\u001b[0m\u001b[0;32m   4377\u001b[0m \u001b[1;33m\u001b[0m\u001b[0m\n\u001b[0;32m   4378\u001b[0m     \u001b[1;32mdef\u001b[0m \u001b[0m__setattr__\u001b[0m\u001b[1;33m(\u001b[0m\u001b[0mself\u001b[0m\u001b[1;33m,\u001b[0m \u001b[0mname\u001b[0m\u001b[1;33m,\u001b[0m \u001b[0mvalue\u001b[0m\u001b[1;33m)\u001b[0m\u001b[1;33m:\u001b[0m\u001b[1;33m\u001b[0m\u001b[0m\n",
      "\u001b[1;31mAttributeError\u001b[0m: 'Series' object has no attribute 'decribe'"
     ]
    }
   ],
   "source": [
    "df = df[\"High\"].decribe()"
   ]
  },
  {
   "cell_type": "code",
   "execution_count": null,
   "metadata": {},
   "outputs": [],
   "source": [
    "\n",
    "import pandas as pd\n",
    "from pandas import Series, DataFrame\n",
    "\n",
    "# get titanic & test csv files as a pandas DataFrame\n",
    "iris_df = pd.read_csv(\"iris.csv\")\n",
    "print(\"......Printing the IRIS DataFrame completely.....\")\n",
    "print(iris_df)\n",
    "print(\".............Printing the Info.....\")\n",
    "iris_df.info()\n",
    "print(\".............Printing using dataframe functions.....\")\n",
    "print (iris_df[[\"Class\", \"Sepal_Length\"]].groupby(\n",
    "    ['Class']).min())\n",
    "\n",
    "print(\"The maximum sepal length is\",iris_df['Sepal_Length'].max())\n",
    "\n"
   ]
  },
  {
   "cell_type": "code",
   "execution_count": null,
   "metadata": {},
   "outputs": [],
   "source": [
    "import numpy as np\n",
    "\n",
    "import pandas as pd\n",
    "\n",
    "titanic_df = pd.read_csv('train.csv')\n",
    "\n",
    "# Convert the survived column to strings for easier reading\n",
    "titanic_df ['Survived'] = titanic_df ['Survived'].map({\n",
    "    0: 'Died',\n",
    "    1: 'Survived'\n",
    "})\n",
    "\n",
    "\n",
    "print(\"======Data Headers Before Dropping Columns=======\")\n",
    "print(titanic_df.head(5))\n",
    "\n",
    "print(\"**** \\n\\nDATA TRANSFORMATION *****\\n\")\n",
    "\n",
    "print(\"======Data Headers After Dropping Columns - First Way=======\")\n",
    "titanic_df.drop(['Parch','PassengerId','Name','Ticket'], axis=1, inplace=True)\n",
    "print(titanic_df.head(5))\n",
    "print(\"======Data Headers After Dropping Columns - Second Way =======\")\n",
    "titanic_df = titanic_df.drop(['SibSp','Fare'], axis=1)\n",
    "print(titanic_df.head(5))\n",
    "# Convert the Class column to strings for easier reading\n",
    "titanic_df ['Pclass'] = titanic_df ['Pclass'].map({\n",
    "    1: 'Luxury Class',\n",
    "    2: 'Economy Class',\n",
    "    3: 'Lower Class'\n",
    "})\n",
    "\n",
    "print(\"======Data Headers After Transforming Class Column =======\")\n",
    "print(titanic_df.head(5))\n",
    "\n",
    "titanic_df[\"Embarked\"] = titanic_df[\"Embarked\"].fillna(\"S\")\n",
    "print(\"======Data Headers After Filling with default value for Embarked Column =======\")\n",
    "print(titanic_df.head(5))\n",
    "\n",
    "# Convert the Embarked column to strings for easier reading\n",
    "titanic_df ['Embarked'] = titanic_df ['Embarked'].map({\n",
    "    'C':'Cherbourg',\n",
    "    'Q':'Queenstown',\n",
    "    'S':'Southampton'\n",
    "})\n",
    "print(\"======Data Headers After Transforming Embarked Column =======\")\n",
    "print(titanic_df.head(5))"
   ]
  },
  {
   "cell_type": "code",
   "execution_count": 9,
   "metadata": {},
   "outputs": [],
   "source": [
    "tit = pd.read_csv('titanic.csv')"
   ]
  },
  {
   "cell_type": "code",
   "execution_count": null,
   "metadata": {},
   "outputs": [],
   "source": [
    "print(tit)"
   ]
  },
  {
   "cell_type": "code",
   "execution_count": null,
   "metadata": {},
   "outputs": [],
   "source": [
    "tit.describe()"
   ]
  },
  {
   "cell_type": "code",
   "execution_count": 21,
   "metadata": {},
   "outputs": [
    {
     "name": "stdout",
     "output_type": "stream",
     "text": [
      "<pandas.core.groupby.groupby.DataFrameGroupBy object at 0x000001FA3F533160>\n"
     ]
    }
   ],
   "source": [
    "o = tit[['Survived','Pclass']].groupby(['Pclass'])\n",
    "print(o)"
   ]
  },
  {
   "cell_type": "code",
   "execution_count": 15,
   "metadata": {},
   "outputs": [
    {
     "data": {
      "text/plain": [
       "80.0"
      ]
     },
     "execution_count": 15,
     "metadata": {},
     "output_type": "execute_result"
    }
   ],
   "source": [
    "tit[\"Age\"].max()"
   ]
  },
  {
   "cell_type": "code",
   "execution_count": 16,
   "metadata": {},
   "outputs": [
    {
     "data": {
      "text/plain": [
       "512.3292"
      ]
     },
     "execution_count": 16,
     "metadata": {},
     "output_type": "execute_result"
    }
   ],
   "source": [
    "tit['Fare'].max()"
   ]
  },
  {
   "cell_type": "code",
   "execution_count": 17,
   "metadata": {},
   "outputs": [
    {
     "data": {
      "text/plain": [
       "29.593100338218715"
      ]
     },
     "execution_count": 17,
     "metadata": {},
     "output_type": "execute_result"
    }
   ],
   "source": [
    "tit['Age'].mean()"
   ]
  },
  {
   "cell_type": "code",
   "execution_count": 18,
   "metadata": {},
   "outputs": [
    {
     "data": {
      "text/plain": [
       "14.117061023266002"
      ]
     },
     "execution_count": 18,
     "metadata": {},
     "output_type": "execute_result"
    }
   ],
   "source": [
    "tit['Age'].std()"
   ]
  },
  {
   "cell_type": "code",
   "execution_count": null,
   "metadata": {},
   "outputs": [],
   "source": []
  },
  {
   "cell_type": "code",
   "execution_count": null,
   "metadata": {},
   "outputs": [],
   "source": []
  }
 ],
 "metadata": {
  "kernelspec": {
   "display_name": "Python 3",
   "language": "python",
   "name": "python3"
  },
  "language_info": {
   "codemirror_mode": {
    "name": "ipython",
    "version": 3
   },
   "file_extension": ".py",
   "mimetype": "text/x-python",
   "name": "python",
   "nbconvert_exporter": "python",
   "pygments_lexer": "ipython3",
   "version": "3.6.3rc1"
  }
 },
 "nbformat": 4,
 "nbformat_minor": 2
}
