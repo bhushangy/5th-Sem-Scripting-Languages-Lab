{
 "cells": [
  {
   "cell_type": "code",
   "execution_count": 6,
   "metadata": {},
   "outputs": [
    {
     "data": {
      "image/png": "[encoded data removed]",
      "text/plain": [
       "<Figure size 432x288 with 1 Axes>"
      ]
     },
     "metadata": {
      "needs_background": "light"
     },
     "output_type": "display_data"
    }
   ],
   "source": [
    "import numpy as np\n",
    "import pandas as pd\n",
    "import matplotlib.pyplot as plt\n",
    "import seaborn as sns\n",
    "\n",
    "\n",
    "stu_p = pd.read_csv('studentperformance.csv');\n",
    "\n",
    "# # 1)\n",
    "# print(stu_p.head(3))\n",
    "\n",
    "# # 2)\n",
    "# print(stu_p.describe())\n",
    "# stu_p.mathscore.count()\n",
    "# stu_p.mathscore.max()\n",
    "\n",
    "# # 3)\n",
    "\n",
    "# print(stu_p.info())\n",
    "# print(stu_p.shape)\n",
    "\n",
    "\n",
    "# refer pandas cheat sheet for explanations for these coomands\n",
    "#https://www.dataquest.io/blog/pandas-cheat-sheet/\n",
    "\n",
    "# 4)\n",
    "#axis --> if axis=1 then column, if 0 then row\n",
    "\n",
    "stu_p_d = stu_p.drop(['lunch','test preparation course'],axis=1,inplace=False)\n",
    "\n",
    "\n",
    "# When inplace=True is passed, the data is renamed in place (it returns nothing) i.e modifies the original memory frame, so you'd use:\n",
    "\n",
    "# df.an_operation(inplace=True)\n",
    "\n",
    "# When inplace=False is passed (this is the default value, so isn't necessary), performs the operation and returns a copy of the object i.e \n",
    "# it is not modified in the memory frame which u loaded in the beginning..the particular column u dropped still exixts in that first df, so you'd use:\n",
    "\n",
    "# df = df.an_operation(inplace=False) \n",
    "# So: here only in df dataframe it is dropped....\n",
    "\n",
    "# if inplace == False:\n",
    "#     Assign your result to a new variable\n",
    "# else\n",
    "#     No need to assign\n",
    "\n",
    "\n",
    "#print(stu_p_d.head())\n",
    "#print(stu_p.head())\n",
    "\n",
    "# NOTICE THE DIFF HERE...\n",
    "\n",
    "\n",
    "# 5)\n",
    "\n",
    "stu_p_d['parental level of education'] = stu_p_d['parental level of education'].fillna('BE')\n",
    "#print(stu_p_d)\n",
    "\n",
    "\n",
    "# 6)\n",
    "\n",
    "stu_p_d['race/ethnicity'] = stu_p_d['race/ethnicity'].map({\n",
    "    \n",
    "    'group A':'Asian',\n",
    "    'group B':'African',\n",
    "    'group C':'Afro-Asian',\n",
    "    'group D':'American'\n",
    "    \n",
    "})\n",
    "\n",
    "#print(stu_p_d.head())\n",
    "\n",
    "\n",
    "# 7) \n",
    "\n",
    "ax = sns.countplot(x='parental level of education',hue='gender',palette='Set2',data=stu_p_d)\n"
   ]
  },
  {
   "cell_type": "code",
   "execution_count": null,
   "metadata": {},
   "outputs": [],
   "source": []
  },
  {
   "cell_type": "code",
   "execution_count": null,
   "metadata": {},
   "outputs": [],
   "source": []
  },
  {
   "cell_type": "code",
   "execution_count": null,
   "metadata": {},
   "outputs": [],
   "source": []
  }
 ],
 "metadata": {
  "kernelspec": {
   "display_name": "Python 3",
   "language": "python",
   "name": "python3"
  },
  "language_info": {
   "codemirror_mode": {
    "name": "ipython",
    "version": 3
   },
   "file_extension": ".py",
   "mimetype": "text/x-python",
   "name": "python",
   "nbconvert_exporter": "python",
   "pygments_lexer": "ipython3",
   "version": "3.6.3rc1"
  }
 },
 "nbformat": 4,
 "nbformat_minor": 2
}
